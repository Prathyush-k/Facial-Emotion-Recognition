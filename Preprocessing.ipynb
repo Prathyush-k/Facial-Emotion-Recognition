{
 "cells": [
  {
   "cell_type": "markdown",
   "metadata": {
    "papermill": {
     "duration": 0.020905,
     "end_time": "2023-04-06T23:10:06.813408",
     "exception": false,
     "start_time": "2023-04-06T23:10:06.792503",
     "status": "completed"
    },
    "tags": []
   },
   "source": [
    "<h2 align=center> Facial Expression Recognition</h2>"
   ]
  },
  {
   "cell_type": "markdown",
   "metadata": {
    "papermill": {
     "duration": 0.020089,
     "end_time": "2023-04-06T23:10:06.853597",
     "exception": false,
     "start_time": "2023-04-06T23:10:06.833508",
     "status": "completed"
    },
    "tags": []
   },
   "source": [
    " "
   ]
  },
  {
   "cell_type": "markdown",
   "metadata": {
    "papermill": {
     "duration": 0.020161,
     "end_time": "2023-04-06T23:10:06.896444",
     "exception": false,
     "start_time": "2023-04-06T23:10:06.876283",
     "status": "completed"
    },
    "tags": []
   },
   "source": [
    "## Importing Libraries"
   ]
  },
  {
   "cell_type": "code",
   "execution_count": 1,
   "metadata": {
    "execution": {
     "iopub.execute_input": "2023-04-06T23:10:06.945739Z",
     "iopub.status.busy": "2023-04-06T23:10:06.944904Z",
     "iopub.status.idle": "2023-04-06T23:10:27.980182Z",
     "shell.execute_reply": "2023-04-06T23:10:27.979486Z",
     "shell.execute_reply.started": "2023-04-06T05:19:52.696231Z"
    },
    "id": "wvGxjjeV-9Ls",
    "papermill": {
     "duration": 21.063624,
     "end_time": "2023-04-06T23:10:27.980332",
     "exception": false,
     "start_time": "2023-04-06T23:10:06.916708",
     "status": "completed"
    },
    "tags": []
   },
   "outputs": [],
   "source": [
    "import numpy as np\n",
    "import pandas as pd\n",
    "import seaborn as sns\n",
    "import matplotlib.pyplot as plt\n",
    "import utils\n",
    "import os\n",
    "\n",
    "import cv2"
   ]
  },
  {
   "cell_type": "markdown",
   "metadata": {
    "papermill": {
     "duration": 0.016697,
     "end_time": "2023-04-06T23:10:28.015266",
     "exception": false,
     "start_time": "2023-04-06T23:10:27.998569",
     "status": "completed"
    },
    "tags": []
   },
   "source": [
    "\n",
    "## Getting total number of images of each category"
   ]
  },
  {
   "cell_type": "code",
   "execution_count": 2,
   "metadata": {
    "execution": {
     "iopub.execute_input": "2023-04-06T23:10:28.058054Z",
     "iopub.status.busy": "2023-04-06T23:10:28.057432Z",
     "iopub.status.idle": "2023-04-06T23:10:30.528494Z",
     "shell.execute_reply": "2023-04-06T23:10:30.527940Z",
     "shell.execute_reply.started": "2023-04-06T07:11:22.610850Z"
    },
    "id": "TalL_1Qr-9Qz",
    "outputId": "f5fb9b05-976a-4979-ea23-33c3d87efb94",
    "papermill": {
     "duration": 2.49568,
     "end_time": "2023-04-06T23:10:30.528606",
     "exception": false,
     "start_time": "2023-04-06T23:10:28.032926",
     "status": "completed"
    },
    "tags": []
   },
   "outputs": [
    {
     "name": "stdout",
     "output_type": "stream",
     "text": [
      "3995 angry images\n",
      "436 disgust images\n",
      "4097 fear images\n",
      "7215 happy images\n",
      "4965 neutral images\n",
      "4830 sad images\n",
      "3171 surprise images\n"
     ]
    }
   ],
   "source": [
    "import os\n",
    "\n",
    "for expression in os.listdir(\"fer2013-kaggle/train\"):\n",
    "    print(str(len(os.listdir(\"fer2013-kaggle/train/\" + expression))) + \" \" + expression + \" images\")"
   ]
  },
  {
   "cell_type": "code",
   "execution_count": 3,
   "metadata": {
    "scrolled": true
   },
   "outputs": [
    {
     "data": {
      "text/html": [
       "<div>\n",
       "<style scoped>\n",
       "    .dataframe tbody tr th:only-of-type {\n",
       "        vertical-align: middle;\n",
       "    }\n",
       "\n",
       "    .dataframe tbody tr th {\n",
       "        vertical-align: top;\n",
       "    }\n",
       "\n",
       "    .dataframe thead th {\n",
       "        text-align: right;\n",
       "    }\n",
       "</style>\n",
       "<table border=\"1\" class=\"dataframe\">\n",
       "  <thead>\n",
       "    <tr style=\"text-align: right;\">\n",
       "      <th></th>\n",
       "      <th>Expression</th>\n",
       "      <th>expression_Types_Cat</th>\n",
       "    </tr>\n",
       "  </thead>\n",
       "  <tbody>\n",
       "    <tr>\n",
       "      <th>0</th>\n",
       "      <td>Angry</td>\n",
       "      <td>0</td>\n",
       "    </tr>\n",
       "    <tr>\n",
       "      <th>1</th>\n",
       "      <td>Disgust</td>\n",
       "      <td>1</td>\n",
       "    </tr>\n",
       "    <tr>\n",
       "      <th>2</th>\n",
       "      <td>Fear</td>\n",
       "      <td>2</td>\n",
       "    </tr>\n",
       "    <tr>\n",
       "      <th>3</th>\n",
       "      <td>Happy</td>\n",
       "      <td>3</td>\n",
       "    </tr>\n",
       "    <tr>\n",
       "      <th>4</th>\n",
       "      <td>Neutral</td>\n",
       "      <td>4</td>\n",
       "    </tr>\n",
       "    <tr>\n",
       "      <th>5</th>\n",
       "      <td>Sad</td>\n",
       "      <td>5</td>\n",
       "    </tr>\n",
       "    <tr>\n",
       "      <th>6</th>\n",
       "      <td>Surprise</td>\n",
       "      <td>6</td>\n",
       "    </tr>\n",
       "  </tbody>\n",
       "</table>\n",
       "</div>"
      ],
      "text/plain": [
       "  Expression  expression_Types_Cat\n",
       "0      Angry                     0\n",
       "1    Disgust                     1\n",
       "2       Fear                     2\n",
       "3      Happy                     3\n",
       "4    Neutral                     4\n",
       "5        Sad                     5\n",
       "6   Surprise                     6"
      ]
     },
     "execution_count": 3,
     "metadata": {},
     "output_type": "execute_result"
    }
   ],
   "source": [
    "from sklearn.preprocessing import LabelEncoder\n",
    "\n",
    "expression_types = [\"Angry\", \"Disgust\",\n",
    "                    \"Fear\", \"Happy\",\n",
    "                    \"Neutral\", \"Sad\",\n",
    "                    \"Surprise\"]\n",
    "expression_df = pd.DataFrame(expression_types, columns=['Expression'])\n",
    "\n",
    "labelencoder = LabelEncoder()\n",
    "expression_df['expression_Types_Cat'] = labelencoder.fit_transform(expression_df['Expression'])\n",
    "expression_df\n"
   ]
  },
  {
   "cell_type": "code",
   "execution_count": 4,
   "metadata": {},
   "outputs": [
    {
     "data": {
      "text/html": [
       "<div>\n",
       "<style scoped>\n",
       "    .dataframe tbody tr th:only-of-type {\n",
       "        vertical-align: middle;\n",
       "    }\n",
       "\n",
       "    .dataframe tbody tr th {\n",
       "        vertical-align: top;\n",
       "    }\n",
       "\n",
       "    .dataframe thead th {\n",
       "        text-align: right;\n",
       "    }\n",
       "</style>\n",
       "<table border=\"1\" class=\"dataframe\">\n",
       "  <thead>\n",
       "    <tr style=\"text-align: right;\">\n",
       "      <th></th>\n",
       "      <th>Paths</th>\n",
       "      <th>Expression</th>\n",
       "    </tr>\n",
       "  </thead>\n",
       "  <tbody>\n",
       "    <tr>\n",
       "      <th>3771</th>\n",
       "      <td>fer2013-kaggle\\train\\angry\\Training_95447153.jpg</td>\n",
       "      <td>0</td>\n",
       "    </tr>\n",
       "    <tr>\n",
       "      <th>354</th>\n",
       "      <td>fer2013-kaggle\\train\\angry\\Training_18424991.jpg</td>\n",
       "      <td>0</td>\n",
       "    </tr>\n",
       "    <tr>\n",
       "      <th>9787</th>\n",
       "      <td>fer2013-kaggle\\train\\happy\\Training_25236664.jpg</td>\n",
       "      <td>3</td>\n",
       "    </tr>\n",
       "    <tr>\n",
       "      <th>7061</th>\n",
       "      <td>fer2013-kaggle\\train\\fear\\Training_68543785.jpg</td>\n",
       "      <td>2</td>\n",
       "    </tr>\n",
       "    <tr>\n",
       "      <th>2983</th>\n",
       "      <td>fer2013-kaggle\\train\\angry\\Training_77971888.jpg</td>\n",
       "      <td>0</td>\n",
       "    </tr>\n",
       "  </tbody>\n",
       "</table>\n",
       "</div>"
      ],
      "text/plain": [
       "                                                 Paths  Expression\n",
       "3771  fer2013-kaggle\\train\\angry\\Training_95447153.jpg           0\n",
       "354   fer2013-kaggle\\train\\angry\\Training_18424991.jpg           0\n",
       "9787  fer2013-kaggle\\train\\happy\\Training_25236664.jpg           3\n",
       "7061   fer2013-kaggle\\train\\fear\\Training_68543785.jpg           2\n",
       "2983  fer2013-kaggle\\train\\angry\\Training_77971888.jpg           0"
      ]
     },
     "execution_count": 4,
     "metadata": {},
     "output_type": "execute_result"
    }
   ],
   "source": [
    "df_train_list = []\n",
    "for expression in os.listdir(\"fer2013-kaggle/train\"):\n",
    "    path_files =  os.listdir(\"fer2013-kaggle/train/\" + expression)\n",
    "    \n",
    "    for path in path_files:\n",
    "        path_file =os.path.join(\"fer2013-kaggle\\\\train\\\\\", expression,path)\n",
    "        df_train_list.append([path_file, expression])\n",
    "        \n",
    "df_train = pd.DataFrame(df_train_list,columns=['Paths', 'Expression'])\n",
    "#df_train = df_train.sample(frac=1)\n",
    "df_train['Expression'] = labelencoder.fit_transform(df_train['Expression'])\n",
    "df_train = df_train.reset_index(drop=True)\n",
    "df_train.sample(5)"
   ]
  },
  {
   "cell_type": "code",
   "execution_count": 5,
   "metadata": {
    "scrolled": true
   },
   "outputs": [
    {
     "data": {
      "image/png": "[encoded data removed]",
      "text/plain": [
       "<Figure size 432x288 with 5 Axes>"
      ]
     },
     "metadata": {
      "needs_background": "light"
     },
     "output_type": "display_data"
    }
   ],
   "source": [
    "for i in range(5):\n",
    "    \n",
    "    x = np.random.randint(len(df_train))\n",
    "    img_train = cv2.imread(df_train['Paths'][x])\n",
    "    exp = df_train['Expression'][x]\n",
    "    fr = img_train[:,:,::-1]\n",
    "    plt.imshow(fr)\n",
    "    plt.subplot(1,5,i+1)\n",
    "    plt.title( labelencoder.inverse_transform([exp])[0]+\" \"+str(exp))\n",
    "    #plt.title( exp)\n",
    "    plt.imshow(fr)"
   ]
  },
  {
   "cell_type": "code",
   "execution_count": 6,
   "metadata": {
    "scrolled": true
   },
   "outputs": [
    {
     "data": {
      "text/html": [
       "<div>\n",
       "<style scoped>\n",
       "    .dataframe tbody tr th:only-of-type {\n",
       "        vertical-align: middle;\n",
       "    }\n",
       "\n",
       "    .dataframe tbody tr th {\n",
       "        vertical-align: top;\n",
       "    }\n",
       "\n",
       "    .dataframe thead th {\n",
       "        text-align: right;\n",
       "    }\n",
       "</style>\n",
       "<table border=\"1\" class=\"dataframe\">\n",
       "  <thead>\n",
       "    <tr style=\"text-align: right;\">\n",
       "      <th></th>\n",
       "      <th>Paths</th>\n",
       "      <th>Expression</th>\n",
       "    </tr>\n",
       "  </thead>\n",
       "  <tbody>\n",
       "    <tr>\n",
       "      <th>0</th>\n",
       "      <td>fer2013-kaggle\\test\\angry\\PrivateTest_29669680...</td>\n",
       "      <td>0</td>\n",
       "    </tr>\n",
       "    <tr>\n",
       "      <th>1</th>\n",
       "      <td>fer2013-kaggle\\test\\angry\\PublicTest_77172367.jpg</td>\n",
       "      <td>0</td>\n",
       "    </tr>\n",
       "    <tr>\n",
       "      <th>2</th>\n",
       "      <td>fer2013-kaggle\\test\\happy\\PublicTest_80238560.jpg</td>\n",
       "      <td>3</td>\n",
       "    </tr>\n",
       "    <tr>\n",
       "      <th>3</th>\n",
       "      <td>fer2013-kaggle\\test\\happy\\PrivateTest_54165289...</td>\n",
       "      <td>3</td>\n",
       "    </tr>\n",
       "    <tr>\n",
       "      <th>4</th>\n",
       "      <td>fer2013-kaggle\\test\\neutral\\PublicTest_5974021...</td>\n",
       "      <td>4</td>\n",
       "    </tr>\n",
       "  </tbody>\n",
       "</table>\n",
       "</div>"
      ],
      "text/plain": [
       "                                               Paths  Expression\n",
       "0  fer2013-kaggle\\test\\angry\\PrivateTest_29669680...           0\n",
       "1  fer2013-kaggle\\test\\angry\\PublicTest_77172367.jpg           0\n",
       "2  fer2013-kaggle\\test\\happy\\PublicTest_80238560.jpg           3\n",
       "3  fer2013-kaggle\\test\\happy\\PrivateTest_54165289...           3\n",
       "4  fer2013-kaggle\\test\\neutral\\PublicTest_5974021...           4"
      ]
     },
     "execution_count": 6,
     "metadata": {},
     "output_type": "execute_result"
    }
   ],
   "source": [
    "df_test_list = []\n",
    "for expression in os.listdir(\"fer2013-kaggle/test\"):\n",
    "    path_files =  os.listdir(\"fer2013-kaggle/test/\" + expression)\n",
    "    \n",
    "    for path in path_files:\n",
    "        path_file =os.path.join(\"fer2013-kaggle\\\\test\\\\\", expression,path)\n",
    "        df_test_list.append([path_file, expression])\n",
    "        \n",
    "df_test = pd.DataFrame(df_test_list,columns=['Paths', 'Expression'])\n",
    "df_test['Expression'] = labelencoder.fit_transform(df_test['Expression'])\n",
    "\n",
    "df_test = df_test.sample(frac=1)\n",
    "df_test = df_test.reset_index(drop=True)\n",
    "df_test.head()"
   ]
  },
  {
   "cell_type": "code",
   "execution_count": 7,
   "metadata": {
    "scrolled": true
   },
   "outputs": [
    {
     "data": {
      "image/png": "[encoded data removed]",
      "text/plain": [
       "<Figure size 432x288 with 5 Axes>"
      ]
     },
     "metadata": {
      "needs_background": "light"
     },
     "output_type": "display_data"
    }
   ],
   "source": [
    "for i in range(5):\n",
    "    x = np.random.randint(len(df_test))\n",
    "    img_test = cv2.imread(df_test['Paths'][x])\n",
    "    exp = df_train['Expression'][x]\n",
    "    fr = img_test[:,:,::-1]\n",
    "    plt.imshow(fr)\n",
    "    plt.subplot(1,5,i+1)\n",
    "    plt.title( labelencoder.inverse_transform([exp])[0]+\" \"+str(exp))\n",
    "    plt.imshow(fr)"
   ]
  },
  {
   "cell_type": "code",
   "execution_count": null,
   "metadata": {},
   "outputs": [],
   "source": []
  },
  {
   "cell_type": "code",
   "execution_count": 8,
   "metadata": {},
   "outputs": [],
   "source": [
    "df_train.to_csv(\"fer2013-kaggle/Train.csv\", index= None)\n",
    "df_test.to_csv(\"fer2013-kaggle/Test.csv\", index= None)"
   ]
  },
  {
   "cell_type": "code",
   "execution_count": null,
   "metadata": {
    "scrolled": true
   },
   "outputs": [],
   "source": []
  },
  {
   "cell_type": "code",
   "execution_count": null,
   "metadata": {},
   "outputs": [],
   "source": []
  }
 ],
 "metadata": {
  "kernelspec": {
   "display_name": "Python 3 (ipykernel)",
   "language": "python",
   "name": "python3"
  },
  "language_info": {
   "codemirror_mode": {
    "name": "ipython",
    "version": 3
   },
   "file_extension": ".py",
   "mimetype": "text/x-python",
   "name": "python",
   "nbconvert_exporter": "python",
   "pygments_lexer": "ipython3",
   "version": "3.9.12"
  },
  "papermill": {
   "duration": 699.255025,
   "end_time": "2023-04-06T23:21:42.238224",
   "environment_variables": {},
   "exception": true,
   "input_path": "__notebook__.ipynb",
   "output_path": "__notebook__.ipynb",
   "parameters": {},
   "start_time": "2023-04-06T23:10:02.983199",
   "version": "2.1.0"
  }
 },
 "nbformat": 4,
 "nbformat_minor": 4
}
