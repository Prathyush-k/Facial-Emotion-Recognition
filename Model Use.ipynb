{
 "cells": [
  {
   "cell_type": "markdown",
   "metadata": {
    "papermill": {
     "duration": 0.020905,
     "end_time": "2023-04-06T23:10:06.813408",
     "exception": false,
     "start_time": "2023-04-06T23:10:06.792503",
     "status": "completed"
    },
    "tags": []
   },
   "source": [
    "<h2 align=center> Facial Expression Recognition</h2>"
   ]
  },
  {
   "cell_type": "markdown",
   "metadata": {
    "papermill": {
     "duration": 0.020089,
     "end_time": "2023-04-06T23:10:06.853597",
     "exception": false,
     "start_time": "2023-04-06T23:10:06.833508",
     "status": "completed"
    },
    "tags": []
   },
   "source": [
    " "
   ]
  },
  {
   "cell_type": "markdown",
   "metadata": {
    "papermill": {
     "duration": 0.020161,
     "end_time": "2023-04-06T23:10:06.896444",
     "exception": false,
     "start_time": "2023-04-06T23:10:06.876283",
     "status": "completed"
    },
    "tags": []
   },
   "source": [
    "## Importing Libraries"
   ]
  },
  {
   "cell_type": "code",
   "execution_count": null,
   "metadata": {
    "execution": {
     "iopub.execute_input": "2023-04-06T23:10:06.945739Z",
     "iopub.status.busy": "2023-04-06T23:10:06.944904Z",
     "iopub.status.idle": "2023-04-06T23:10:27.980182Z",
     "shell.execute_reply": "2023-04-06T23:10:27.979486Z",
     "shell.execute_reply.started": "2023-04-06T05:19:52.696231Z"
    },
    "id": "wvGxjjeV-9Ls",
    "papermill": {
     "duration": 21.063624,
     "end_time": "2023-04-06T23:10:27.980332",
     "exception": false,
     "start_time": "2023-04-06T23:10:06.916708",
     "status": "completed"
    },
    "scrolled": true,
    "tags": []
   },
   "outputs": [],
   "source": [
    "!pip install utils\n",
    "!pip install livelossplot\n",
    "import numpy as np\n",
    "import seaborn as sns\n",
    "import matplotlib.pyplot as plt\n",
    "import utils\n",
    "import os\n",
    "%matplotlib inline\n",
    "\n",
    "from tensorflow.keras.preprocessing.image import ImageDataGenerator\n",
    "from tensorflow.keras.layers import Dense, Input, Dropout,Flatten, Conv2D\n",
    "from tensorflow.keras.layers import BatchNormalization, Activation, MaxPooling2D\n",
    "from tensorflow.keras.models import Model, Sequential, load_model\n",
    "from tensorflow.keras.optimizers import Adam\n",
    "from tensorflow.keras.callbacks import ModelCheckpoint, ReduceLROnPlateau\n",
    "from tensorflow.keras.utils import plot_model\n",
    "\n",
    "from IPython.display import SVG, Image\n",
    "from livelossplot.tf_keras import PlotLossesCallback\n",
    "import tensorflow as tf\n",
    "print(\"Tensorflow version:\", tf.__version__)"
   ]
  },
  {
   "cell_type": "markdown",
   "metadata": {
    "papermill": {
     "duration": 0.018247,
     "end_time": "2023-04-06T23:11:04.559328",
     "exception": false,
     "start_time": "2023-04-06T23:11:04.541081",
     "status": "completed"
    },
    "tags": []
   },
   "source": [
    " "
   ]
  },
  {
   "cell_type": "markdown",
   "metadata": {
    "papermill": {
     "duration": 1.15639,
     "end_time": "2023-04-06T23:21:22.114079",
     "exception": false,
     "start_time": "2023-04-06T23:21:20.957689",
     "status": "completed"
    },
    "tags": []
   },
   "source": [
    "## Class for loading model and weights"
   ]
  },
  {
   "cell_type": "code",
   "execution_count": null,
   "metadata": {
    "execution": {
     "iopub.execute_input": "2023-04-06T23:21:24.566632Z",
     "iopub.status.busy": "2023-04-06T23:21:24.564805Z",
     "iopub.status.idle": "2023-04-06T23:21:24.567262Z",
     "shell.execute_reply": "2023-04-06T23:21:24.567689Z",
     "shell.execute_reply.started": "2023-04-06T08:17:59.910226Z"
    },
    "papermill": {
     "duration": 1.24321,
     "end_time": "2023-04-06T23:21:24.567816",
     "exception": false,
     "start_time": "2023-04-06T23:21:23.324606",
     "status": "completed"
    },
    "tags": []
   },
   "outputs": [],
   "source": [
    "from tensorflow.keras.models import model_from_json\n",
    "import numpy as np\n",
    "\n",
    "import tensorflow as tf\n",
    "\n",
    "\n",
    "class FacialExpressionModel(object):\n",
    "\n",
    "    EMOTIONS_LIST = [\"Angry\", \"Disgust\",\n",
    "                    \"Fear\", \"Happy\",\n",
    "                    \"Neutral\", \"Sad\",\n",
    "                    \"Surprise\"]\n",
    "\n",
    "    def __init__(self, model_file):\n",
    "      \n",
    "        self.loaded_model = load_model(model_file)\n",
    "\n",
    "    def predict_emotion(self, img):\n",
    "        self.preds = self.loaded_model.predict(img)\n",
    "        return FacialExpressionModel.EMOTIONS_LIST[np.argmax(self.preds)]\n"
   ]
  },
  {
   "cell_type": "markdown",
   "metadata": {
    "papermill": {
     "duration": 1.20046,
     "end_time": "2023-04-06T23:21:26.951529",
     "exception": false,
     "start_time": "2023-04-06T23:21:25.751069",
     "status": "completed"
    },
    "tags": []
   },
   "source": [
    "## Getting frames and doing prediction"
   ]
  },
  {
   "cell_type": "code",
   "execution_count": null,
   "metadata": {
    "execution": {
     "iopub.execute_input": "2023-04-06T23:21:29.318805Z",
     "iopub.status.busy": "2023-04-06T23:21:29.318210Z",
     "iopub.status.idle": "2023-04-06T23:21:29.821169Z",
     "shell.execute_reply": "2023-04-06T23:21:29.820162Z",
     "shell.execute_reply.started": "2023-04-06T08:18:06.370257Z"
    },
    "papermill": {
     "duration": 1.702757,
     "end_time": "2023-04-06T23:21:29.821302",
     "exception": false,
     "start_time": "2023-04-06T23:21:28.118545",
     "status": "completed"
    },
    "scrolled": true,
    "tags": []
   },
   "outputs": [],
   "source": [
    "  \n",
    "import cv2\n",
    "import numpy as np\n",
    "\n",
    "facec = cv2.CascadeClassifier('Model weights/haarcascade_frontalface_default.xml')\n",
    "\n",
    "model_basic = FacialExpressionModel(\"Model weights/basic_model.h5\")\n",
    "model_resnet = FacialExpressionModel(\"Model weights/RESNET_model.h5\")\n",
    "\n",
    "font = cv2.FONT_HERSHEY_SIMPLEX\n",
    "\n",
    "class VideoCamera(object):\n",
    "    def __init__(self, model_type):\n",
    "        self.video = cv2.VideoCapture(0)\n",
    "        self.model_type = model_type\n",
    "\n",
    "    def __del__(self):\n",
    "        self.video.release()\n",
    "\n",
    "    # returns camera frames along with bounding boxes and predictions\n",
    "    def get_frame(self):\n",
    "        _, fr = self.video.read()\n",
    "        gray_fr = cv2.cvtColor(fr, cv2.COLOR_BGR2GRAY)\n",
    "        faces = facec.detectMultiScale(gray_fr, 1.3, 5)\n",
    "\n",
    "        for (x, y, w, h) in faces:\n",
    "            if self.model_type == \"RESNET\":\n",
    "                rgb_img = np.zeros_like(fr)\n",
    "                rgb_img[:,:,0] = gray_fr\n",
    "                rgb_img[:,:,1] = gray_fr\n",
    "                rgb_img[:,:,2] = gray_fr   \n",
    "                \n",
    "                fc = rgb_img[y:y+h, x:x+w,:]\n",
    "                roi = cv2.resize(fc, (224, 224))\n",
    "                \n",
    "                pred = model_resnet.predict_emotion(roi[np.newaxis, :, :])\n",
    "            else:\n",
    "                fc = gray_fr[y:y+h, x:x+w]\n",
    "                \n",
    "                roi = cv2.resize(fc, (48, 48))\n",
    "                pred = model_basic.predict_emotion(roi[np.newaxis, :, :, np.newaxis])\n",
    "           \n",
    "            cv2.putText(fr, pred, (x, y), font, 1, (255, 255, 0), 2)\n",
    "            cv2.rectangle(fr,(x,y),(x+w,y+h),(255,0,0),2)\n",
    "\n",
    "        return fr"
   ]
  },
  {
   "cell_type": "code",
   "execution_count": null,
   "metadata": {},
   "outputs": [],
   "source": []
  },
  {
   "cell_type": "markdown",
   "metadata": {
    "papermill": {
     "duration": 1.202897,
     "end_time": "2023-04-06T23:21:32.208880",
     "exception": false,
     "start_time": "2023-04-06T23:21:31.005983",
     "status": "completed"
    },
    "tags": []
   },
   "source": [
    "## Function for showing output video"
   ]
  },
  {
   "cell_type": "code",
   "execution_count": null,
   "metadata": {
    "execution": {
     "iopub.execute_input": "2023-04-06T23:21:34.697756Z",
     "iopub.status.busy": "2023-04-06T23:21:34.696860Z",
     "iopub.status.idle": "2023-04-06T23:21:34.699448Z",
     "shell.execute_reply": "2023-04-06T23:21:34.699842Z",
     "shell.execute_reply.started": "2023-04-06T08:18:09.833679Z"
    },
    "papermill": {
     "duration": 1.286111,
     "end_time": "2023-04-06T23:21:34.699989",
     "exception": false,
     "start_time": "2023-04-06T23:21:33.413878",
     "status": "completed"
    },
    "tags": []
   },
   "outputs": [],
   "source": [
    "def gen(camera):\n",
    "    while True:\n",
    "        frame = camera.get_frame()\n",
    "        cv2.imshow('Facial Expression Recognization',frame)\n",
    "        if cv2.waitKey(1) & 0xFF == ord('q'):\n",
    "            break\n",
    "    cv2.destroyAllWindows()"
   ]
  },
  {
   "cell_type": "markdown",
   "metadata": {
    "papermill": {
     "duration": 1.149702,
     "end_time": "2023-04-06T23:21:36.997205",
     "exception": false,
     "start_time": "2023-04-06T23:21:35.847503",
     "status": "completed"
    },
    "tags": []
   },
   "source": [
    "## Running the code"
   ]
  },
  {
   "cell_type": "code",
   "execution_count": null,
   "metadata": {
    "execution": {
     "iopub.execute_input": "2023-04-06T23:21:39.350736Z",
     "iopub.status.busy": "2023-04-06T23:21:39.349770Z",
     "iopub.status.idle": "2023-04-06T23:21:39.843525Z",
     "shell.execute_reply": "2023-04-06T23:21:39.842912Z",
     "shell.execute_reply.started": "2023-04-06T08:18:12.405298Z"
    },
    "papermill": {
     "duration": 1.701803,
     "end_time": "2023-04-06T23:21:39.843677",
     "exception": true,
     "start_time": "2023-04-06T23:21:38.141874",
     "status": "failed"
    },
    "scrolled": true,
    "tags": []
   },
   "outputs": [],
   "source": [
    "## Select model to use\n",
    "gen(VideoCamera(model_type= ''))"
   ]
  },
  {
   "cell_type": "code",
   "execution_count": null,
   "metadata": {},
   "outputs": [],
   "source": []
  }
 ],
 "metadata": {
  "kernelspec": {
   "display_name": "Python 3 (ipykernel)",
   "language": "python",
   "name": "python3"
  },
  "language_info": {
   "codemirror_mode": {
    "name": "ipython",
    "version": 3
   },
   "file_extension": ".py",
   "mimetype": "text/x-python",
   "name": "python",
   "nbconvert_exporter": "python",
   "pygments_lexer": "ipython3",
   "version": "3.9.12"
  },
  "papermill": {
   "duration": 699.255025,
   "end_time": "2023-04-06T23:21:42.238224",
   "environment_variables": {},
   "exception": true,
   "input_path": "__notebook__.ipynb",
   "output_path": "__notebook__.ipynb",
   "parameters": {},
   "start_time": "2023-04-06T23:10:02.983199",
   "version": "2.1.0"
  }
 },
 "nbformat": 4,
 "nbformat_minor": 4
}
